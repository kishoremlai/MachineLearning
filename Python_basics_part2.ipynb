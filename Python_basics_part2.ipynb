{
  "nbformat": 4,
  "nbformat_minor": 0,
  "metadata": {
    "colab": {
      "name": "Python basics part2.ipynb",
      "provenance": [],
      "collapsed_sections": [],
      "authorship_tag": "ABX9TyMA5k+C3kJIirMu8QoR6FmR",
      "include_colab_link": true
    },
    "kernelspec": {
      "name": "python3",
      "display_name": "Python 3"
    }
  },
  "cells": [
    {
      "cell_type": "markdown",
      "metadata": {
        "id": "view-in-github",
        "colab_type": "text"
      },
      "source": [
        "<a href=\"https://colab.research.google.com/github/kishoremlai/MachineLearning/blob/main/Python_basics_part2.ipynb\" target=\"_parent\"><img src=\"https://colab.research.google.com/assets/colab-badge.svg\" alt=\"Open In Colab\"/></a>"
      ]
    },
    {
      "cell_type": "code",
      "metadata": {
        "colab": {
          "base_uri": "https://localhost:8080/"
        },
        "id": "P0Az64ynVG5Q",
        "outputId": "8d6c347a-9139-4b8d-cdaf-0250d9536cad"
      },
      "source": [
        "## List comprehension\n",
        "\n",
        "lst = [1,2,3,4, \"Kish\"]\n",
        "lst"
      ],
      "execution_count": 1,
      "outputs": [
        {
          "output_type": "execute_result",
          "data": {
            "text/plain": [
              "[1, 2, 3, 4, 'Kish']"
            ]
          },
          "metadata": {
            "tags": []
          },
          "execution_count": 1
        }
      ]
    },
    {
      "cell_type": "code",
      "metadata": {
        "colab": {
          "base_uri": "https://localhost:8080/"
        },
        "id": "MHNyf1lUVlE7",
        "outputId": "c14f879d-2521-4fe0-e5e9-e014f5fb3d1c"
      },
      "source": [
        "[i**2 for i in range(1,5)]"
      ],
      "execution_count": 3,
      "outputs": [
        {
          "output_type": "execute_result",
          "data": {
            "text/plain": [
              "[1, 4, 9, 16]"
            ]
          },
          "metadata": {
            "tags": []
          },
          "execution_count": 3
        }
      ]
    },
    {
      "cell_type": "code",
      "metadata": {
        "id": "dVFHEqC3WeZP"
      },
      "source": [
        "my_list = [x for x in range(10) if x%2==0 ]"
      ],
      "execution_count": 8,
      "outputs": []
    },
    {
      "cell_type": "code",
      "metadata": {
        "colab": {
          "base_uri": "https://localhost:8080/"
        },
        "id": "lyMpfsI1Wwcd",
        "outputId": "00d9ef8a-3bbf-4468-fa2b-395c9ac1c385"
      },
      "source": [
        "my_list"
      ],
      "execution_count": 9,
      "outputs": [
        {
          "output_type": "execute_result",
          "data": {
            "text/plain": [
              "[0, 2, 4, 6, 8]"
            ]
          },
          "metadata": {
            "tags": []
          },
          "execution_count": 9
        }
      ]
    },
    {
      "cell_type": "code",
      "metadata": {
        "colab": {
          "base_uri": "https://localhost:8080/"
        },
        "id": "12edF-_YXRkH",
        "outputId": "c30af5af-adc2-47e2-e0ee-2480797a1d39"
      },
      "source": [
        "sum(my_list)"
      ],
      "execution_count": 10,
      "outputs": [
        {
          "output_type": "execute_result",
          "data": {
            "text/plain": [
              "20"
            ]
          },
          "metadata": {
            "tags": []
          },
          "execution_count": 10
        }
      ]
    },
    {
      "cell_type": "code",
      "metadata": {
        "colab": {
          "base_uri": "https://localhost:8080/"
        },
        "id": "v8mXxKFFXi-6",
        "outputId": "99ea79e3-72ee-46b1-ac0a-0eeebc03209e"
      },
      "source": [
        "# Tuples - Tuples are immutable unlike the list\n",
        "\n",
        "my_tup=(1,2,3,4,5)\n",
        "my_tup"
      ],
      "execution_count": 11,
      "outputs": [
        {
          "output_type": "execute_result",
          "data": {
            "text/plain": [
              "(1, 2, 3, 4, 5)"
            ]
          },
          "metadata": {
            "tags": []
          },
          "execution_count": 11
        }
      ]
    },
    {
      "cell_type": "code",
      "metadata": {
        "colab": {
          "base_uri": "https://localhost:8080/"
        },
        "id": "Qg6Zs29LYMkX",
        "outputId": "45615f3f-7eb5-416e-8a96-a1726a09c998"
      },
      "source": [
        "type(my_tup)"
      ],
      "execution_count": 12,
      "outputs": [
        {
          "output_type": "execute_result",
          "data": {
            "text/plain": [
              "tuple"
            ]
          },
          "metadata": {
            "tags": []
          },
          "execution_count": 12
        }
      ]
    },
    {
      "cell_type": "code",
      "metadata": {
        "id": "17EBhMuJYN1H"
      },
      "source": [
        "my_tup_from_list=tuple([8,7,6,5,4])"
      ],
      "execution_count": 14,
      "outputs": []
    },
    {
      "cell_type": "code",
      "metadata": {
        "colab": {
          "base_uri": "https://localhost:8080/"
        },
        "id": "8knlO5VNYbdQ",
        "outputId": "4909c92f-ade3-4a1b-a6ea-5cf8a44fb9d3"
      },
      "source": [
        "my_tup_from_list"
      ],
      "execution_count": 15,
      "outputs": [
        {
          "output_type": "execute_result",
          "data": {
            "text/plain": [
              "(8, 7, 6, 5, 4)"
            ]
          },
          "metadata": {
            "tags": []
          },
          "execution_count": 15
        }
      ]
    },
    {
      "cell_type": "code",
      "metadata": {
        "colab": {
          "base_uri": "https://localhost:8080/"
        },
        "id": "bnsTo8ExYiRT",
        "outputId": "1fa708d9-7438-4f1a-a61b-50aa5e4249a9"
      },
      "source": [
        "my_tup[2]"
      ],
      "execution_count": 16,
      "outputs": [
        {
          "output_type": "execute_result",
          "data": {
            "text/plain": [
              "3"
            ]
          },
          "metadata": {
            "tags": []
          },
          "execution_count": 16
        }
      ]
    },
    {
      "cell_type": "code",
      "metadata": {
        "colab": {
          "base_uri": "https://localhost:8080/",
          "height": 172
        },
        "id": "Pk_rTq7sYnOf",
        "outputId": "ddf38c34-322b-403e-c72e-741c63ad355d"
      },
      "source": [
        "my_tup[2]=\"Kish\""
      ],
      "execution_count": 17,
      "outputs": [
        {
          "output_type": "error",
          "ename": "TypeError",
          "evalue": "ignored",
          "traceback": [
            "\u001b[0;31m---------------------------------------------------------------------------\u001b[0m",
            "\u001b[0;31mTypeError\u001b[0m                                 Traceback (most recent call last)",
            "\u001b[0;32m<ipython-input-17-29b16b415dc6>\u001b[0m in \u001b[0;36m<module>\u001b[0;34m()\u001b[0m\n\u001b[0;32m----> 1\u001b[0;31m \u001b[0mmy_tup\u001b[0m\u001b[0;34m[\u001b[0m\u001b[0;36m2\u001b[0m\u001b[0;34m]\u001b[0m\u001b[0;34m=\u001b[0m\u001b[0;34m\"Kish\"\u001b[0m\u001b[0;34m\u001b[0m\u001b[0;34m\u001b[0m\u001b[0m\n\u001b[0m",
            "\u001b[0;31mTypeError\u001b[0m: 'tuple' object does not support item assignment"
          ]
        }
      ]
    },
    {
      "cell_type": "code",
      "metadata": {
        "colab": {
          "base_uri": "https://localhost:8080/"
        },
        "id": "sckOyZi5YqeE",
        "outputId": "03c033af-de87-4e42-8ca8-374c8efd4298"
      },
      "source": [
        "my_tup.count(1)"
      ],
      "execution_count": 19,
      "outputs": [
        {
          "output_type": "execute_result",
          "data": {
            "text/plain": [
              "1"
            ]
          },
          "metadata": {
            "tags": []
          },
          "execution_count": 19
        }
      ]
    },
    {
      "cell_type": "code",
      "metadata": {
        "colab": {
          "base_uri": "https://localhost:8080/"
        },
        "id": "SVFLy-gsZXzs",
        "outputId": "881b0354-0c53-4784-e1ea-5535287f3b57"
      },
      "source": [
        "my_tup.index(3)"
      ],
      "execution_count": 20,
      "outputs": [
        {
          "output_type": "execute_result",
          "data": {
            "text/plain": [
              "2"
            ]
          },
          "metadata": {
            "tags": []
          },
          "execution_count": 20
        }
      ]
    },
    {
      "cell_type": "code",
      "metadata": {
        "colab": {
          "base_uri": "https://localhost:8080/"
        },
        "id": "mYe7GbCFZeR_",
        "outputId": "18d2634c-3504-4624-d40e-173fdaec71d5"
      },
      "source": [
        "l = list(my_tup)\n",
        "l"
      ],
      "execution_count": 21,
      "outputs": [
        {
          "output_type": "execute_result",
          "data": {
            "text/plain": [
              "[1, 2, 3, 4, 5]"
            ]
          },
          "metadata": {
            "tags": []
          },
          "execution_count": 21
        }
      ]
    },
    {
      "cell_type": "code",
      "metadata": {
        "colab": {
          "base_uri": "https://localhost:8080/"
        },
        "id": "DCkcEeNOanHq",
        "outputId": "d767a00d-7ee1-4d6e-db3f-e06def7b2f87"
      },
      "source": [
        "# Sets - Unordered collection of unique elements\n",
        "\n",
        "myset = {1,2,3,4,5,5}\n",
        "myset"
      ],
      "execution_count": 22,
      "outputs": [
        {
          "output_type": "execute_result",
          "data": {
            "text/plain": [
              "{1, 2, 3, 4, 5}"
            ]
          },
          "metadata": {
            "tags": []
          },
          "execution_count": 22
        }
      ]
    },
    {
      "cell_type": "code",
      "metadata": {
        "colab": {
          "base_uri": "https://localhost:8080/"
        },
        "id": "8rK97tsrbBUO",
        "outputId": "7fb79437-659e-4380-afc9-2d931b257dd5"
      },
      "source": [
        "set(l)\n"
      ],
      "execution_count": 23,
      "outputs": [
        {
          "output_type": "execute_result",
          "data": {
            "text/plain": [
              "{1, 2, 3, 4, 5}"
            ]
          },
          "metadata": {
            "tags": []
          },
          "execution_count": 23
        }
      ]
    },
    {
      "cell_type": "code",
      "metadata": {
        "colab": {
          "base_uri": "https://localhost:8080/"
        },
        "id": "EDSrZxUpbWES",
        "outputId": "e8044f4c-1c5d-4d72-ca31-c45fa8385697"
      },
      "source": [
        "x1={1,2,3,4,5}\n",
        "x2={4,5,6,7,8}\n",
        "x1.add(6)\n",
        "x1"
      ],
      "execution_count": 24,
      "outputs": [
        {
          "output_type": "execute_result",
          "data": {
            "text/plain": [
              "{1, 2, 3, 4, 5, 6}"
            ]
          },
          "metadata": {
            "tags": []
          },
          "execution_count": 24
        }
      ]
    },
    {
      "cell_type": "code",
      "metadata": {
        "colab": {
          "base_uri": "https://localhost:8080/"
        },
        "id": "cQY2Z_OhcYeh",
        "outputId": "a2e2a07d-f00c-465e-d239-0f4261d5ac09"
      },
      "source": [
        "x1.union(x2)"
      ],
      "execution_count": 25,
      "outputs": [
        {
          "output_type": "execute_result",
          "data": {
            "text/plain": [
              "{1, 2, 3, 4, 5, 6, 7, 8}"
            ]
          },
          "metadata": {
            "tags": []
          },
          "execution_count": 25
        }
      ]
    },
    {
      "cell_type": "code",
      "metadata": {
        "colab": {
          "base_uri": "https://localhost:8080/"
        },
        "id": "g-_nv4nLcdNj",
        "outputId": "e6bda7ac-14d0-4e0c-e440-203c3700fa20"
      },
      "source": [
        "x1.intersection(x2)"
      ],
      "execution_count": 26,
      "outputs": [
        {
          "output_type": "execute_result",
          "data": {
            "text/plain": [
              "{4, 5, 6}"
            ]
          },
          "metadata": {
            "tags": []
          },
          "execution_count": 26
        }
      ]
    },
    {
      "cell_type": "code",
      "metadata": {
        "colab": {
          "base_uri": "https://localhost:8080/"
        },
        "id": "1Mh685jJcfwz",
        "outputId": "9ec0a895-3871-4a54-9e3f-b4bdaf0711b9"
      },
      "source": [
        "x2.difference(x1)"
      ],
      "execution_count": 27,
      "outputs": [
        {
          "output_type": "execute_result",
          "data": {
            "text/plain": [
              "{7, 8}"
            ]
          },
          "metadata": {
            "tags": []
          },
          "execution_count": 27
        }
      ]
    },
    {
      "cell_type": "code",
      "metadata": {
        "colab": {
          "base_uri": "https://localhost:8080/"
        },
        "id": "eiYftoHkdScm",
        "outputId": "50b42772-6d88-4f59-ecb6-b8993aeae453"
      },
      "source": [
        "# Dictionaries\n",
        "\n",
        "my_dict = {1:\"Hello\", 2:\"World\"}\n",
        "my_dict"
      ],
      "execution_count": 28,
      "outputs": [
        {
          "output_type": "execute_result",
          "data": {
            "text/plain": [
              "{1: 'Hello', 2: 'World'}"
            ]
          },
          "metadata": {
            "tags": []
          },
          "execution_count": 28
        }
      ]
    },
    {
      "cell_type": "code",
      "metadata": {
        "colab": {
          "base_uri": "https://localhost:8080/",
          "height": 36
        },
        "id": "LWQ7taaGiQ5i",
        "outputId": "f933fdc3-3026-4261-c818-9d99ba0b30e2"
      },
      "source": [
        "my_dict[1]"
      ],
      "execution_count": 30,
      "outputs": [
        {
          "output_type": "execute_result",
          "data": {
            "application/vnd.google.colaboratory.intrinsic+json": {
              "type": "string"
            },
            "text/plain": [
              "'Hello'"
            ]
          },
          "metadata": {
            "tags": []
          },
          "execution_count": 30
        }
      ]
    },
    {
      "cell_type": "code",
      "metadata": {
        "colab": {
          "base_uri": "https://localhost:8080/"
        },
        "id": "f4H1mWuFiWDk",
        "outputId": "8a978499-845b-4353-b172-c15a157655dd"
      },
      "source": [
        "nest_dict={\"parentKey\":{\"child1Key\":{\"child2Key\":\"childValue\"}}}\n",
        "nest_dict"
      ],
      "execution_count": 31,
      "outputs": [
        {
          "output_type": "execute_result",
          "data": {
            "text/plain": [
              "{'parentKey': {'child1Key': {'child2Key': 'childValue'}}}"
            ]
          },
          "metadata": {
            "tags": []
          },
          "execution_count": 31
        }
      ]
    },
    {
      "cell_type": "code",
      "metadata": {
        "colab": {
          "base_uri": "https://localhost:8080/",
          "height": 36
        },
        "id": "hImyEN71i76T",
        "outputId": "0e9f2d80-f17c-4a2f-ce38-53d8b874ea40"
      },
      "source": [
        "nest_dict['parentKey'][\"child1Key\"][\"child2Key\"]"
      ],
      "execution_count": 32,
      "outputs": [
        {
          "output_type": "execute_result",
          "data": {
            "application/vnd.google.colaboratory.intrinsic+json": {
              "type": "string"
            },
            "text/plain": [
              "'childValue'"
            ]
          },
          "metadata": {
            "tags": []
          },
          "execution_count": 32
        }
      ]
    },
    {
      "cell_type": "code",
      "metadata": {
        "colab": {
          "base_uri": "https://localhost:8080/"
        },
        "id": "c20wEQrdjNdv",
        "outputId": "c9c9071e-a76e-45ae-ce5f-0eec3a48d657"
      },
      "source": [
        "{x:x*2 for x in range(5)}"
      ],
      "execution_count": 33,
      "outputs": [
        {
          "output_type": "execute_result",
          "data": {
            "text/plain": [
              "{0: 0, 1: 2, 2: 4, 3: 6, 4: 8}"
            ]
          },
          "metadata": {
            "tags": []
          },
          "execution_count": 33
        }
      ]
    },
    {
      "cell_type": "code",
      "metadata": {
        "id": "x7lMTODmjx4F"
      },
      "source": [
        "def addition(num1, num2):\n",
        "  return num1+num2"
      ],
      "execution_count": 34,
      "outputs": []
    },
    {
      "cell_type": "code",
      "metadata": {
        "colab": {
          "base_uri": "https://localhost:8080/"
        },
        "id": "R9ofr6h5j_hq",
        "outputId": "64c9ec60-b698-419d-99e4-74070ca42cc2"
      },
      "source": [
        "addition(1,2)"
      ],
      "execution_count": 35,
      "outputs": [
        {
          "output_type": "execute_result",
          "data": {
            "text/plain": [
              "3"
            ]
          },
          "metadata": {
            "tags": []
          },
          "execution_count": 35
        }
      ]
    },
    {
      "cell_type": "code",
      "metadata": {
        "id": "Bifrtn5XkB0V"
      },
      "source": [
        "def odd_or_even(num):\n",
        "  if(num%2==0):\n",
        "    return \"even\"\n",
        "  else:\n",
        "    return \"odd\""
      ],
      "execution_count": 36,
      "outputs": []
    },
    {
      "cell_type": "code",
      "metadata": {
        "colab": {
          "base_uri": "https://localhost:8080/",
          "height": 36
        },
        "id": "k5EF31Bsl9fy",
        "outputId": "61678290-0a22-4d38-f8e3-ec373134bb8c"
      },
      "source": [
        "odd_or_even(6)"
      ],
      "execution_count": 37,
      "outputs": [
        {
          "output_type": "execute_result",
          "data": {
            "application/vnd.google.colaboratory.intrinsic+json": {
              "type": "string"
            },
            "text/plain": [
              "'even'"
            ]
          },
          "metadata": {
            "tags": []
          },
          "execution_count": 37
        }
      ]
    },
    {
      "cell_type": "code",
      "metadata": {
        "colab": {
          "base_uri": "https://localhost:8080/",
          "height": 36
        },
        "id": "JDBxM4L7l_pb",
        "outputId": "66450f5a-49f1-41f8-d006-18698fa06177"
      },
      "source": [
        "odd_or_even(5)"
      ],
      "execution_count": 38,
      "outputs": [
        {
          "output_type": "execute_result",
          "data": {
            "application/vnd.google.colaboratory.intrinsic+json": {
              "type": "string"
            },
            "text/plain": [
              "'odd'"
            ]
          },
          "metadata": {
            "tags": []
          },
          "execution_count": 38
        }
      ]
    },
    {
      "cell_type": "code",
      "metadata": {
        "id": "l4u2LIHJmIIM"
      },
      "source": [
        "l1=[2,3,4,5,6,7]\n",
        "l2=[6,7,8,9,3,4]\n",
        "\n",
        "def elem_wise_sum(list1, list2):\n",
        "  sum_list=[]\n",
        "  for i in range(len(list1)):\n",
        "    sum_list.append(list1[i]+list2[i])\n",
        "    \n",
        "  return sum_list"
      ],
      "execution_count": 51,
      "outputs": []
    },
    {
      "cell_type": "code",
      "metadata": {
        "colab": {
          "base_uri": "https://localhost:8080/"
        },
        "id": "E5hLxHp-oLw3",
        "outputId": "81ae6327-0ac4-4978-8207-26d44875f0ff"
      },
      "source": [
        "elem_wise_sum(l1,l2)"
      ],
      "execution_count": 52,
      "outputs": [
        {
          "output_type": "execute_result",
          "data": {
            "text/plain": [
              "[8, 10, 12, 14, 9, 11]"
            ]
          },
          "metadata": {
            "tags": []
          },
          "execution_count": 52
        }
      ]
    },
    {
      "cell_type": "code",
      "metadata": {
        "colab": {
          "base_uri": "https://localhost:8080/"
        },
        "id": "25EhzbJAoTwh",
        "outputId": "9d325948-7d85-4108-d620-ea0e63a6b947"
      },
      "source": [
        "l1[1]+l2[1]"
      ],
      "execution_count": 47,
      "outputs": [
        {
          "output_type": "execute_result",
          "data": {
            "text/plain": [
              "10"
            ]
          },
          "metadata": {
            "tags": []
          },
          "execution_count": 47
        }
      ]
    },
    {
      "cell_type": "code",
      "metadata": {
        "colab": {
          "base_uri": "https://localhost:8080/"
        },
        "id": "Rc0g0FUspKi0",
        "outputId": "66881a29-646e-478b-fbcb-d562134d6a94"
      },
      "source": [
        "# Iterables - Strings, tuples, list, dictionary. Basically, any data structure will be iterable\n",
        "\n",
        "# Iterator. Can't use indexing with iterator. works only next(a)\n",
        "\n",
        "a = iter([1,2,3,4,5])\n",
        "a"
      ],
      "execution_count": 10,
      "outputs": [
        {
          "output_type": "execute_result",
          "data": {
            "text/plain": [
              "<list_iterator at 0x7fb9f806d358>"
            ]
          },
          "metadata": {
            "tags": []
          },
          "execution_count": 10
        }
      ]
    },
    {
      "cell_type": "code",
      "metadata": {
        "colab": {
          "base_uri": "https://localhost:8080/",
          "height": 172
        },
        "id": "JL-HS-KhgZFj",
        "outputId": "e2376d0a-4d38-4f71-d218-7e7aa40f3afd"
      },
      "source": [
        "next(a)"
      ],
      "execution_count": 7,
      "outputs": [
        {
          "output_type": "error",
          "ename": "StopIteration",
          "evalue": "ignored",
          "traceback": [
            "\u001b[0;31m---------------------------------------------------------------------------\u001b[0m",
            "\u001b[0;31mStopIteration\u001b[0m                             Traceback (most recent call last)",
            "\u001b[0;32m<ipython-input-7-15841f3f11d4>\u001b[0m in \u001b[0;36m<module>\u001b[0;34m()\u001b[0m\n\u001b[0;32m----> 1\u001b[0;31m \u001b[0mnext\u001b[0m\u001b[0;34m(\u001b[0m\u001b[0ma\u001b[0m\u001b[0;34m)\u001b[0m\u001b[0;34m\u001b[0m\u001b[0;34m\u001b[0m\u001b[0m\n\u001b[0m",
            "\u001b[0;31mStopIteration\u001b[0m: "
          ]
        }
      ]
    },
    {
      "cell_type": "code",
      "metadata": {
        "colab": {
          "base_uri": "https://localhost:8080/"
        },
        "id": "SvH5KnxMgdyl",
        "outputId": "e9f05f55-974a-4ea4-b3cc-9cac8237e79a"
      },
      "source": [
        "for i in a:\n",
        "  print(i)"
      ],
      "execution_count": 11,
      "outputs": [
        {
          "output_type": "stream",
          "text": [
            "1\n",
            "2\n",
            "3\n",
            "4\n",
            "5\n"
          ],
          "name": "stdout"
        }
      ]
    },
    {
      "cell_type": "code",
      "metadata": {
        "id": "R-Gm0exhhaGo"
      },
      "source": [
        "def getCubes(n):\n",
        "  for num in range(n):\n",
        "    yield num**3"
      ],
      "execution_count": 21,
      "outputs": []
    },
    {
      "cell_type": "code",
      "metadata": {
        "colab": {
          "base_uri": "https://localhost:8080/"
        },
        "id": "xXWQlrEQi9JF",
        "outputId": "9e950a25-b0cc-4e22-981f-df2eb67f899c"
      },
      "source": [
        "cubesop = getCubes(5)\n",
        "cubesop"
      ],
      "execution_count": 22,
      "outputs": [
        {
          "output_type": "execute_result",
          "data": {
            "text/plain": [
              "<generator object getCubes at 0x7fb9f805bba0>"
            ]
          },
          "metadata": {
            "tags": []
          },
          "execution_count": 22
        }
      ]
    },
    {
      "cell_type": "code",
      "metadata": {
        "colab": {
          "base_uri": "https://localhost:8080/"
        },
        "id": "BhiUKPVxjCrF",
        "outputId": "d46d3e96-d253-4876-8250-804a546c8611"
      },
      "source": [
        "next(cubesop)"
      ],
      "execution_count": 27,
      "outputs": [
        {
          "output_type": "execute_result",
          "data": {
            "text/plain": [
              "27"
            ]
          },
          "metadata": {
            "tags": []
          },
          "execution_count": 27
        }
      ]
    },
    {
      "cell_type": "code",
      "metadata": {
        "colab": {
          "base_uri": "https://localhost:8080/"
        },
        "id": "eLMwn4iOjHvE",
        "outputId": "95f80c15-690e-4503-8133-06542a501e43"
      },
      "source": [
        "for x in getCubes(5):\n",
        "  print(x)"
      ],
      "execution_count": 25,
      "outputs": [
        {
          "output_type": "stream",
          "text": [
            "0\n",
            "1\n",
            "8\n",
            "27\n",
            "64\n"
          ],
          "name": "stdout"
        }
      ]
    },
    {
      "cell_type": "code",
      "metadata": {
        "colab": {
          "base_uri": "https://localhost:8080/"
        },
        "id": "M_rS4Dvaky6H",
        "outputId": "9f18a8a9-a2be-41a3-d2b2-9dd924f0e1ae"
      },
      "source": [
        "# Map function - Takes 2 arguments. 1- Function 2-Sequence(list, tuple or dictionary)\n",
        "\n",
        "def sqnum(x):\n",
        "  return x*x\n",
        "\n",
        "sqnum(5)"
      ],
      "execution_count": 28,
      "outputs": [
        {
          "output_type": "execute_result",
          "data": {
            "text/plain": [
              "25"
            ]
          },
          "metadata": {
            "tags": []
          },
          "execution_count": 28
        }
      ]
    },
    {
      "cell_type": "code",
      "metadata": {
        "id": "aqyxJlAloypI"
      },
      "source": [
        "a=map(sqnum,[1,2,3,4])"
      ],
      "execution_count": 35,
      "outputs": []
    },
    {
      "cell_type": "code",
      "metadata": {
        "colab": {
          "base_uri": "https://localhost:8080/"
        },
        "id": "LbuncxXWo3Ql",
        "outputId": "5eb20798-cba3-431e-d0a1-6028170729dd"
      },
      "source": [
        "for i in a:\n",
        "  print(i)"
      ],
      "execution_count": 32,
      "outputs": [
        {
          "output_type": "stream",
          "text": [
            "1\n",
            "4\n",
            "9\n",
            "16\n"
          ],
          "name": "stdout"
        }
      ]
    },
    {
      "cell_type": "code",
      "metadata": {
        "colab": {
          "base_uri": "https://localhost:8080/"
        },
        "id": "CsPM8YydpMOK",
        "outputId": "df424479-aeb1-43df-e84c-ed96d34d9d0a"
      },
      "source": [
        "list(a)"
      ],
      "execution_count": 36,
      "outputs": [
        {
          "output_type": "execute_result",
          "data": {
            "text/plain": [
              "[1, 4, 9, 16]"
            ]
          },
          "metadata": {
            "tags": []
          },
          "execution_count": 36
        }
      ]
    },
    {
      "cell_type": "code",
      "metadata": {
        "colab": {
          "base_uri": "https://localhost:8080/"
        },
        "id": "SUaD-KF9pM50",
        "outputId": "fccced7b-4f67-4ceb-ad28-612e023911e0"
      },
      "source": [
        "a"
      ],
      "execution_count": 37,
      "outputs": [
        {
          "output_type": "execute_result",
          "data": {
            "text/plain": [
              "<map at 0x7fb9f806d518>"
            ]
          },
          "metadata": {
            "tags": []
          },
          "execution_count": 37
        }
      ]
    },
    {
      "cell_type": "code",
      "metadata": {
        "colab": {
          "base_uri": "https://localhost:8080/"
        },
        "id": "lTAVFATYpOrh",
        "outputId": "864820cf-2927-4f38-b079-12ae463019be"
      },
      "source": [
        "my_list = [5,7,8,5,4,3,2,9]\n",
        "\n",
        "sqnums = list(map(sqnum,my_list))\n",
        "sqnums"
      ],
      "execution_count": 38,
      "outputs": [
        {
          "output_type": "execute_result",
          "data": {
            "text/plain": [
              "[25, 49, 64, 25, 16, 9, 4, 81]"
            ]
          },
          "metadata": {
            "tags": []
          },
          "execution_count": 38
        }
      ]
    },
    {
      "cell_type": "code",
      "metadata": {
        "colab": {
          "base_uri": "https://localhost:8080/"
        },
        "id": "YV_1OLUipw_s",
        "outputId": "e3e9ae6b-108e-42c3-9303-0ee592113e7b"
      },
      "source": [
        "# Lambda\n",
        "\n",
        "b = lambda x:x+1\n",
        "b(3)"
      ],
      "execution_count": 40,
      "outputs": [
        {
          "output_type": "execute_result",
          "data": {
            "text/plain": [
              "4"
            ]
          },
          "metadata": {
            "tags": []
          },
          "execution_count": 40
        }
      ]
    },
    {
      "cell_type": "code",
      "metadata": {
        "colab": {
          "base_uri": "https://localhost:8080/"
        },
        "id": "3rmYo7UQqyqr",
        "outputId": "e27504d2-dce3-4628-e226-6525635c2c95"
      },
      "source": [
        "list(map(lambda x:x*x, my_list))"
      ],
      "execution_count": 42,
      "outputs": [
        {
          "output_type": "execute_result",
          "data": {
            "text/plain": [
              "[25, 49, 64, 25, 16, 9, 4, 81]"
            ]
          },
          "metadata": {
            "tags": []
          },
          "execution_count": 42
        }
      ]
    },
    {
      "cell_type": "code",
      "metadata": {
        "colab": {
          "base_uri": "https://localhost:8080/"
        },
        "id": "urRVPC-vsXs-",
        "outputId": "ef0c0236-5305-4f32-f2f6-85aa2893fa2d"
      },
      "source": [
        "# Reduce function\n",
        "\n",
        "from functools import reduce\n",
        "\n",
        "\n",
        "# find max number in a list of numbers\n",
        "\n",
        "find_max = lambda a,b: a if (a>b) else b\n",
        "reduce(find_max, my_list)"
      ],
      "execution_count": 44,
      "outputs": [
        {
          "output_type": "execute_result",
          "data": {
            "text/plain": [
              "9"
            ]
          },
          "metadata": {
            "tags": []
          },
          "execution_count": 44
        }
      ]
    },
    {
      "cell_type": "code",
      "metadata": {
        "colab": {
          "base_uri": "https://localhost:8080/"
        },
        "id": "m0QwyF7kskfP",
        "outputId": "5480f411-e1f1-48b7-efb9-30b78bd9fe1e"
      },
      "source": [
        "add_num = lambda a,b: a+b\n",
        "reduce(add_num, my_list)"
      ],
      "execution_count": 45,
      "outputs": [
        {
          "output_type": "execute_result",
          "data": {
            "text/plain": [
              "43"
            ]
          },
          "metadata": {
            "tags": []
          },
          "execution_count": 45
        }
      ]
    },
    {
      "cell_type": "code",
      "metadata": {
        "colab": {
          "base_uri": "https://localhost:8080/"
        },
        "id": "HWCTcXUWuYqb",
        "outputId": "d30d84f0-892e-4388-ca7a-1dd24b128e46"
      },
      "source": [
        "sum(my_list)"
      ],
      "execution_count": 46,
      "outputs": [
        {
          "output_type": "execute_result",
          "data": {
            "text/plain": [
              "43"
            ]
          },
          "metadata": {
            "tags": []
          },
          "execution_count": 46
        }
      ]
    },
    {
      "cell_type": "code",
      "metadata": {
        "id": "NxAm8Ax8urN6"
      },
      "source": [
        "# Filter method takes in a function that return True or false. then apply to a sequence\n",
        "\n",
        "# Find all the even numbers in a list\n",
        "\n",
        "def only_even(n):\n",
        "  if n%2==0:\n",
        "    return True\n",
        "  else:\n",
        "    return False"
      ],
      "execution_count": 47,
      "outputs": []
    },
    {
      "cell_type": "code",
      "metadata": {
        "colab": {
          "base_uri": "https://localhost:8080/"
        },
        "id": "g6lilDE0wMbk",
        "outputId": "3e70dec9-698d-4921-89d3-27a5bd3723f6"
      },
      "source": [
        "list(filter(only_even, my_list))"
      ],
      "execution_count": 49,
      "outputs": [
        {
          "output_type": "execute_result",
          "data": {
            "text/plain": [
              "[8, 4, 2]"
            ]
          },
          "metadata": {
            "tags": []
          },
          "execution_count": 49
        }
      ]
    },
    {
      "cell_type": "code",
      "metadata": {
        "colab": {
          "base_uri": "https://localhost:8080/"
        },
        "id": "3dJ_VURSwWUZ",
        "outputId": "a0118207-05f1-4ae5-abda-deb2555bd11c"
      },
      "source": [
        "my_list"
      ],
      "execution_count": 50,
      "outputs": [
        {
          "output_type": "execute_result",
          "data": {
            "text/plain": [
              "[5, 7, 8, 5, 4, 3, 2, 9]"
            ]
          },
          "metadata": {
            "tags": []
          },
          "execution_count": 50
        }
      ]
    },
    {
      "cell_type": "code",
      "metadata": {
        "colab": {
          "base_uri": "https://localhost:8080/"
        },
        "id": "AUB68WkszOZ7",
        "outputId": "943ff96b-0b78-4962-f413-f1b4ea859ca0"
      },
      "source": [
        "list(filter(lambda x: (x%2==0), my_list))"
      ],
      "execution_count": 54,
      "outputs": [
        {
          "output_type": "execute_result",
          "data": {
            "text/plain": [
              "[8, 4, 2]"
            ]
          },
          "metadata": {
            "tags": []
          },
          "execution_count": 54
        }
      ]
    },
    {
      "cell_type": "code",
      "metadata": {
        "id": "Ij7zvi3PzOOB"
      },
      "source": [
        ""
      ],
      "execution_count": null,
      "outputs": []
    },
    {
      "cell_type": "code",
      "metadata": {
        "id": "1vQpPSrNzNzJ"
      },
      "source": [
        ""
      ],
      "execution_count": null,
      "outputs": []
    },
    {
      "cell_type": "markdown",
      "metadata": {
        "id": "VaM_XvNsxCL2"
      },
      "source": [
        "Summary - \n",
        "\n",
        "1. Map function takes two parameters, a function and a sequence on which the function is applied. Usually used within a list()\n",
        "\n",
        "Ex. Take a list of numbers and square all the numbers. Take a list and give result based on some formula\n",
        "\n",
        "2. Reduce function - Takes two parameters, a function that performs some operation/calculation and a sequence to apply it on. It calculates the result of a first number and takes the next numer along with the result into the next iteration.\n",
        "\n",
        "Ex. calculate the max number in a list, calculate the sum of a list etc.,\n",
        "\n",
        "3. Filter function - Takes two arguments, a function that evaluates to True or False and a sequence of items to apply it on. It is usually used with a lambda function to apply some condition and return only those values that conform to the condition.\n",
        "\n",
        "Ex - Get only even/odd numbers from a list of mixed numbers"
      ]
    }
  ]
}